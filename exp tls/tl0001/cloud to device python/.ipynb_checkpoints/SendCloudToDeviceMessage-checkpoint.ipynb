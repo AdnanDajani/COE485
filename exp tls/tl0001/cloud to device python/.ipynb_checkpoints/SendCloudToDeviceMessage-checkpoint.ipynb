{
 "cells": [
  {
   "cell_type": "code",
   "execution_count": 1,
   "metadata": {},
   "outputs": [],
   "source": [
    "import random\n",
    "import sys\n",
    "from azure.iot.hub import IoTHubRegistryManager\n",
    "\n",
    "MESSAGE_COUNT = 2\n",
    "AVG_WIND_SPEED = 10.0\n",
    "MSG_TXT = \"{\\\"service client sent a message\\\": %.2f}\"\n"
   ]
  },
  {
   "cell_type": "code",
   "execution_count": 2,
   "metadata": {},
   "outputs": [],
   "source": [
    "CONNECTION_STRING = \"HostName=its-hub.azure-devices.net;SharedAccessKeyName=iothubowner;SharedAccessKey=RYtMOIpVr4nbmhAmOzkryhVxzqPlGSmmJSRi1ssxhpo=\"\n",
    "DEVICE_ID = \"tl0001\""
   ]
  },
  {
   "cell_type": "code",
   "execution_count": 3,
   "metadata": {},
   "outputs": [],
   "source": [
    "def iothub_messaging_sample_run():\n",
    "    try:\n",
    "        # Create IoTHubRegistryManager\n",
    "        registry_manager = IoTHubRegistryManager(CONNECTION_STRING)\n",
    "\n",
    "        for i in range(0, MESSAGE_COUNT):\n",
    "            print ( 'Sending message: {0}'.format(i) )\n",
    "            data = MSG_TXT % (AVG_WIND_SPEED + (random.random() * 4 + 2))\n",
    "\n",
    "            props={}\n",
    "            # optional: assign system properties\n",
    "            props.update(messageId = \"message_%d\" % i)\n",
    "            props.update(correlationId = \"correlation_%d\" % i)\n",
    "            props.update(contentType = \"application/json\")\n",
    "\n",
    "            # optional: assign application properties\n",
    "            prop_text = \"PropMsg_%d\" % i\n",
    "            props.update(testProperty = prop_text)\n",
    "\n",
    "            registry_manager.send_c2d_message(DEVICE_ID, data, properties=props)\n",
    "\n",
    "        try:\n",
    "            # Try Python 2.xx first\n",
    "            raw_input(\"Press Enter to continue...\\n\")\n",
    "        except:\n",
    "            pass\n",
    "            # Use Python 3.xx in the case of exception\n",
    "            input(\"Press Enter to continue...\\n\")\n",
    "\n",
    "    except Exception as ex:\n",
    "        print ( \"Unexpected error {0}\" % ex )\n",
    "        return\n",
    "    except KeyboardInterrupt:\n",
    "        print ( \"IoT Hub C2D Messaging service sample stopped\" )"
   ]
  },
  {
   "cell_type": "code",
   "execution_count": null,
   "metadata": {},
   "outputs": [
    {
     "name": "stdout",
     "output_type": "stream",
     "text": [
      "Starting the Python IoT Hub C2D Messaging service sample...\n",
      "Sending message: 0\n",
      "Sending message: 1\n"
     ]
    }
   ],
   "source": [
    "if __name__ == '__main__':\n",
    "    print ( \"Starting the Python IoT Hub C2D Messaging service sample...\" )\n",
    "\n",
    "    iothub_messaging_sample_run()"
   ]
  }
 ],
 "metadata": {
  "kernelspec": {
   "display_name": "Python 3",
   "language": "python",
   "name": "python3"
  },
  "language_info": {
   "codemirror_mode": {
    "name": "ipython",
    "version": 3
   },
   "file_extension": ".py",
   "mimetype": "text/x-python",
   "name": "python",
   "nbconvert_exporter": "python",
   "pygments_lexer": "ipython3",
   "version": "3.7.6"
  }
 },
 "nbformat": 4,
 "nbformat_minor": 4
}
