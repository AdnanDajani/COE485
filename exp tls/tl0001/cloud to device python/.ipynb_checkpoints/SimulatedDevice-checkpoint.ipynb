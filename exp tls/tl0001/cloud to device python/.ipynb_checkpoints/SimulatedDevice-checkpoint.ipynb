{
 "cells": [
  {
   "cell_type": "code",
   "execution_count": 1,
   "metadata": {},
   "outputs": [],
   "source": [
    "import threading\n",
    "import time\n",
    "from azure.iot.device import IoTHubDeviceClient\n",
    "\n",
    "RECEIVED_MESSAGES = 0"
   ]
  },
  {
   "cell_type": "code",
   "execution_count": 2,
   "metadata": {},
   "outputs": [],
   "source": [
    "CONNECTION_STRING = \"HostName=its-hub.azure-devices.net;DeviceId=tl0001;SharedAccessKey=BUb4iJOmyEEzgbgOKT9HWB9eG8xCn6qsUNA3iil0/u4=\""
   ]
  },
  {
   "cell_type": "code",
   "execution_count": 3,
   "metadata": {},
   "outputs": [],
   "source": [
    "def message_listener(client):\n",
    "    global RECEIVED_MESSAGES\n",
    "    while True:\n",
    "        message = client.receive_message()\n",
    "        RECEIVED_MESSAGES += 1\n",
    "        print(\"\\nMessage received:\")\n",
    "\n",
    "        #print data and both system and application (custom) properties\n",
    "        for property in vars(message).items():\n",
    "            print (\"    {0}\".format(property))\n",
    "\n",
    "        print( \"Total calls received: {}\".format(RECEIVED_MESSAGES))\n",
    "        print()"
   ]
  },
  {
   "cell_type": "code",
   "execution_count": 4,
   "metadata": {},
   "outputs": [],
   "source": [
    "def iothub_client_sample_run():\n",
    "    try:\n",
    "        client = IoTHubDeviceClient.create_from_connection_string(CONNECTION_STRING)\n",
    "\n",
    "        message_listener_thread = threading.Thread(target=message_listener, args=(client,))\n",
    "        message_listener_thread.daemon = True\n",
    "        message_listener_thread.start()\n",
    "\n",
    "        while True:\n",
    "            time.sleep(1000)\n",
    "\n",
    "    except KeyboardInterrupt:\n",
    "        print ( \"IoT Hub C2D Messaging device sample stopped\" )"
   ]
  },
  {
   "cell_type": "code",
   "execution_count": null,
   "metadata": {},
   "outputs": [
    {
     "name": "stdout",
     "output_type": "stream",
     "text": [
      "Starting the Python IoT Hub C2D Messaging device sample...\n",
      "Waiting for C2D messages, press Ctrl-C to exit\n"
     ]
    },
    {
     "name": "stderr",
     "output_type": "stream",
     "text": [
      "C:\\Users\\sasd1\\anaconda3\\lib\\site-packages\\ipykernel_launcher.py:4: DeprecatedWarning: receive_message is deprecated as of 2.3.0. We recommend that you use the .on_message_received property to set a handler instead\n",
      "  after removing the cwd from sys.path.\n"
     ]
    },
    {
     "name": "stdout",
     "output_type": "stream",
     "text": [
      "\n",
      "Message received:\n",
      "    ('data', b'{\"service client sent a message\": 14.76}')\n",
      "    ('custom_properties', {'testProperty': 'PropMsg_0'})\n",
      "    ('message_id', 'message_0')\n",
      "    ('expiry_time_utc', None)\n",
      "    ('correlation_id', 'correlation_0')\n",
      "    ('user_id', None)\n",
      "    ('content_encoding', None)\n",
      "    ('content_type', 'application/json')\n",
      "    ('output_name', None)\n",
      "    ('input_name', None)\n",
      "    ('_iothub_interface_id', None)\n",
      "Total calls received: 1\n",
      "\n",
      "\n",
      "Message received:\n",
      "    ('data', b'{\"service client sent a message\": 12.35}')\n",
      "    ('custom_properties', {'testProperty': 'PropMsg_1'})\n",
      "    ('message_id', 'message_1')\n",
      "    ('expiry_time_utc', None)\n",
      "    ('correlation_id', 'correlation_1')\n",
      "    ('user_id', None)\n",
      "    ('content_encoding', None)\n",
      "    ('content_type', 'application/json')\n",
      "    ('output_name', None)\n",
      "    ('input_name', None)\n",
      "    ('_iothub_interface_id', None)\n",
      "Total calls received: 2\n",
      "\n",
      "\n",
      "Message received:\n",
      "    ('data', b'{\"service client sent a message\": 13.60}')\n",
      "    ('custom_properties', {'testProperty': 'PropMsg_0'})\n",
      "    ('message_id', 'message_0')\n",
      "    ('expiry_time_utc', None)\n",
      "    ('correlation_id', 'correlation_0')\n",
      "    ('user_id', None)\n",
      "    ('content_encoding', None)\n",
      "    ('content_type', 'application/json')\n",
      "    ('output_name', None)\n",
      "    ('input_name', None)\n",
      "    ('_iothub_interface_id', None)\n",
      "Total calls received: 3\n",
      "\n",
      "\n",
      "Message received:\n",
      "    ('data', b'{\"service client sent a message\": 12.56}')\n",
      "    ('custom_properties', {'testProperty': 'PropMsg_1'})\n",
      "    ('message_id', 'message_1')\n",
      "    ('expiry_time_utc', None)\n",
      "    ('correlation_id', 'correlation_1')\n",
      "    ('user_id', None)\n",
      "    ('content_encoding', None)\n",
      "    ('content_type', 'application/json')\n",
      "    ('output_name', None)\n",
      "    ('input_name', None)\n",
      "    ('_iothub_interface_id', None)\n",
      "Total calls received: 4\n",
      "\n"
     ]
    }
   ],
   "source": [
    "if __name__ == '__main__':\n",
    "    print ( \"Starting the Python IoT Hub C2D Messaging device sample...\" )\n",
    "    print ( \"Waiting for C2D messages, press Ctrl-C to exit\" )\n",
    "\n",
    "    iothub_client_sample_run()"
   ]
  }
 ],
 "metadata": {
  "kernelspec": {
   "display_name": "Python 3",
   "language": "python",
   "name": "python3"
  },
  "language_info": {
   "codemirror_mode": {
    "name": "ipython",
    "version": 3
   },
   "file_extension": ".py",
   "mimetype": "text/x-python",
   "name": "python",
   "nbconvert_exporter": "python",
   "pygments_lexer": "ipython3",
   "version": "3.7.6"
  }
 },
 "nbformat": 4,
 "nbformat_minor": 4
}
