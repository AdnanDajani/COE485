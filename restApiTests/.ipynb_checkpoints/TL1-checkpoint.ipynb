{
 "cells": [
  {
   "cell_type": "code",
   "execution_count": 79,
   "metadata": {
    "scrolled": true
   },
   "outputs": [],
   "source": [
    "import time\n",
    "import os\n",
    "from flask import Flask\n",
    "from flask_restful import Api, Resource\n",
    "import requests\n",
    "import json\n",
    "import random"
   ]
  },
  {
   "cell_type": "code",
   "execution_count": 81,
   "metadata": {},
   "outputs": [
    {
     "name": "stdout",
     "output_type": "stream",
     "text": [
      "[2, 2, 2, 2]\n"
     ]
    }
   ],
   "source": [
    "response =requests.get(BASE+\"tld\"+'/1', {'TA':TA}).json()\n",
    "\n",
    "print(response)"
   ]
  },
  {
   "cell_type": "code",
   "execution_count": 90,
   "metadata": {},
   "outputs": [
    {
     "name": "stdout",
     "output_type": "stream",
     "text": [
      "0.10147405334554216, 0.10147405334554216, 0.10147405334554216, 0.10147405334554216\n"
     ]
    }
   ],
   "source": []
  },
  {
   "cell_type": "code",
   "execution_count": 92,
   "metadata": {
    "scrolled": true
   },
   "outputs": [
    {
     "name": "stdout",
     "output_type": "stream",
     "text": [
      "delays: [1, 1, 1, 1]\n",
      "['green', 'red', 'red', 'red']\n",
      "['yellow', 'red', 'red', 'red']\n",
      "['red', 'green', 'red', 'red']\n",
      "['red', 'yellow', 'red', 'red']\n",
      "['red', 'red', 'green', 'red']\n",
      "['red', 'red', 'yellow', 'red']\n",
      "['red', 'red', 'red', 'green']\n",
      "['red', 'red', 'red', 'yellow']\n",
      "0.48118732800768504, 0.48118732800768504, 0.48118732800768504, 0.48118732800768504\n",
      "[2, 2, 2, 2]\n",
      "delays: [2, 2, 2, 2]\n",
      "['green', 'red', 'red', 'red']\n",
      "['yellow', 'red', 'red', 'red']\n",
      "['red', 'green', 'red', 'red']\n",
      "['red', 'yellow', 'red', 'red']\n",
      "['red', 'red', 'green', 'red']\n",
      "['red', 'red', 'yellow', 'red']\n",
      "['red', 'red', 'red', 'green']\n",
      "['red', 'red', 'red', 'yellow']\n",
      "0.8403344937580829, 0.8403344937580829, 0.8403344937580829, 0.8403344937580829\n",
      "[4, 4, 4, 4]\n",
      "delays: [4, 4, 4, 4]\n",
      "['green', 'red', 'red', 'red']\n",
      "['yellow', 'red', 'red', 'red']\n",
      "['red', 'green', 'red', 'red']\n",
      "['red', 'yellow', 'red', 'red']\n",
      "['red', 'red', 'green', 'red']\n",
      "['red', 'red', 'yellow', 'red']\n",
      "['red', 'red', 'red', 'green']\n",
      "['red', 'red', 'red', 'yellow']\n",
      "0.8840859044111918, 0.8840859044111918, 0.8840859044111918, 0.8840859044111918\n",
      "[4, 4, 4, 4]\n",
      "delays: [4, 4, 4, 4]\n",
      "['green', 'red', 'red', 'red']\n",
      "['yellow', 'red', 'red', 'red']\n",
      "['red', 'green', 'red', 'red']\n",
      "['red', 'yellow', 'red', 'red']\n",
      "['red', 'red', 'green', 'red']\n",
      "['red', 'red', 'yellow', 'red']\n",
      "['red', 'red', 'red', 'green']\n",
      "['red', 'red', 'red', 'yellow']\n",
      "0.25921184084921456, 0.25921184084921456, 0.25921184084921456, 0.25921184084921456\n",
      "[1, 1, 1, 1]\n",
      "delays: [1, 1, 1, 1]\n",
      "['green', 'red', 'red', 'red']\n",
      "['yellow', 'red', 'red', 'red']\n",
      "['red', 'green', 'red', 'red']\n",
      "['red', 'yellow', 'red', 'red']\n",
      "['red', 'red', 'green', 'red']\n",
      "['red', 'red', 'yellow', 'red']\n",
      "['red', 'red', 'red', 'green']\n",
      "['red', 'red', 'red', 'yellow']\n",
      "0.5638582955688949, 0.5638582955688949, 0.5638582955688949, 0.5638582955688949\n",
      "[2, 2, 2, 2]\n",
      "delays: [2, 2, 2, 2]\n",
      "['green', 'red', 'red', 'red']\n",
      "['yellow', 'red', 'red', 'red']\n",
      "['red', 'green', 'red', 'red']\n",
      "['red', 'yellow', 'red', 'red']\n",
      "['red', 'red', 'green', 'red']\n",
      "['red', 'red', 'yellow', 'red']\n",
      "['red', 'red', 'red', 'green']\n",
      "['red', 'red', 'red', 'yellow']\n"
     ]
    },
    {
     "ename": "KeyboardInterrupt",
     "evalue": "",
     "output_type": "error",
     "traceback": [
      "\u001b[1;31m---------------------------------------------------------------------------\u001b[0m",
      "\u001b[1;31mKeyboardInterrupt\u001b[0m                         Traceback (most recent call last)",
      "\u001b[1;32m<ipython-input-92-dda6d1899464>\u001b[0m in \u001b[0;36m<module>\u001b[1;34m\u001b[0m\n\u001b[0;32m     21\u001b[0m             \u001b[0mstat\u001b[0m\u001b[1;33m[\u001b[0m\u001b[0mcurrent_light\u001b[0m\u001b[1;33m]\u001b[0m\u001b[1;33m=\u001b[0m\u001b[1;34m'red'\u001b[0m\u001b[1;33m\u001b[0m\u001b[1;33m\u001b[0m\u001b[0m\n\u001b[0;32m     22\u001b[0m             \u001b[0mstat\u001b[0m\u001b[1;33m[\u001b[0m\u001b[1;33m(\u001b[0m\u001b[0mcurrent_light\u001b[0m\u001b[1;33m+\u001b[0m\u001b[1;36m1\u001b[0m\u001b[1;33m)\u001b[0m\u001b[1;33m%\u001b[0m\u001b[0mlen\u001b[0m\u001b[1;33m(\u001b[0m\u001b[0mstat\u001b[0m\u001b[1;33m)\u001b[0m\u001b[1;33m]\u001b[0m\u001b[1;33m=\u001b[0m\u001b[1;34m'green'\u001b[0m\u001b[1;33m\u001b[0m\u001b[1;33m\u001b[0m\u001b[0m\n\u001b[1;32m---> 23\u001b[1;33m             \u001b[0mtime\u001b[0m\u001b[1;33m.\u001b[0m\u001b[0msleep\u001b[0m\u001b[1;33m(\u001b[0m\u001b[1;36m1\u001b[0m\u001b[1;33m)\u001b[0m\u001b[1;33m\u001b[0m\u001b[1;33m\u001b[0m\u001b[0m\n\u001b[0m\u001b[0;32m     24\u001b[0m             \u001b[0mcurrent_light\u001b[0m\u001b[1;33m=\u001b[0m\u001b[1;33m(\u001b[0m\u001b[0mcurrent_light\u001b[0m\u001b[1;33m+\u001b[0m\u001b[1;36m1\u001b[0m\u001b[1;33m)\u001b[0m\u001b[1;33m%\u001b[0m\u001b[0mlen\u001b[0m\u001b[1;33m(\u001b[0m\u001b[0mstat\u001b[0m\u001b[1;33m)\u001b[0m\u001b[1;33m\u001b[0m\u001b[1;33m\u001b[0m\u001b[0m\n\u001b[0;32m     25\u001b[0m \u001b[1;33m\u001b[0m\u001b[0m\n",
      "\u001b[1;31mKeyboardInterrupt\u001b[0m: "
     ]
    }
   ],
   "source": [
    "BASE =\"http://127.0.0.1:5000/\"\n",
    "\n",
    "\n",
    "\n",
    "stat = [\"green\",\"red\",'red','red']\n",
    "current_light=0\n",
    "delay=[1, 1, 1, 1]\n",
    "TA=\"0.50,0.50,0.50,0.50\"\n",
    "number_of_cycles=1\n",
    "\n",
    "while(1):\n",
    "    print(\"delays:\", delay)\n",
    "    \n",
    "    for i in range(2*(len(stat))*number_of_cycles):\n",
    "        print(stat)\n",
    "        if(stat[current_light]=='green'):\n",
    "            stat[current_light]='yellow'\n",
    "            time.sleep(delay[current_light])\n",
    "        \n",
    "        elif(stat[current_light]=='yellow'):\n",
    "            stat[current_light]='red'\n",
    "            stat[(current_light+1)%len(stat)]='green'\n",
    "            time.sleep(1)\n",
    "            current_light=(current_light+1)%len(stat)\n",
    "        \n",
    "    \n",
    "    temp=random.random()\n",
    "    TA=str(temp)+\", \"+str(temp)+\", \"+str(temp)+\", \"+str(temp)\n",
    "    print(TA)\n",
    "    \n",
    "    response =requests.get(BASE+\"tld\"+'/1', {'TA':TA}).json()\n",
    "    \n",
    "    print(response)\n",
    "    for j in range(len(response)):\n",
    "        delay[j]=response[j]"
   ]
  }
 ],
 "metadata": {
  "kernelspec": {
   "display_name": "Python 3",
   "language": "python",
   "name": "python3"
  },
  "language_info": {
   "codemirror_mode": {
    "name": "ipython",
    "version": 3
   },
   "file_extension": ".py",
   "mimetype": "text/x-python",
   "name": "python",
   "nbconvert_exporter": "python",
   "pygments_lexer": "ipython3",
   "version": "3.7.6"
  }
 },
 "nbformat": 4,
 "nbformat_minor": 4
}
